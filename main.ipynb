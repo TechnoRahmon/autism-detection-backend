{
 "cells": [
  {
   "cell_type": "code",
   "execution_count": null,
   "metadata": {},
   "outputs": [
    {
     "name": "stdout",
     "output_type": "stream",
     "text": [
      " * Serving Flask app '__main__'\n",
      " * Debug mode: off\n"
     ]
    },
    {
     "name": "stderr",
     "output_type": "stream",
     "text": [
      "WARNING: This is a development server. Do not use it in a production deployment. Use a production WSGI server instead.\n",
      " * Running on http://127.0.0.1:8000\n",
      "Press CTRL+C to quit\n"
     ]
    },
    {
     "name": "stdout",
     "output_type": "stream",
     "text": [
      "1/1 [==============================] - 0s 173ms/step\n"
     ]
    },
    {
     "name": "stderr",
     "output_type": "stream",
     "text": [
      "127.0.0.1 - - [24/Feb/2024 16:02:05] \"POST /predict HTTP/1.1\" 200 -\n"
     ]
    }
   ],
   "source": [
    "from flask import Flask, request, jsonify\n",
    "import os\n",
    "import pickle\n",
    "import pandas as pd\n",
    "from sklearn.preprocessing import LabelEncoder, StandardScaler\n",
    "import numpy as np\n",
    "from keras.models import Sequential\n",
    "from keras.layers import SimpleRNN, Dense\n",
    "from flask_cors import CORS\n",
    "\n",
    "app = Flask(__name__)\n",
    "CORS(app)\n",
    "\n",
    "# Load the trained RNN model from the pickled file\n",
    "with open('best_model.pkl', 'rb') as f:\n",
    "    model_rnn = pickle.load(f)\n",
    "\n",
    "# Define column names based on your dataset\n",
    "columns = ['A1_Score', 'A2_Score', 'A3_Score', 'A4_Score', 'A5_Score', 'A6_Score',\n",
    "           'A7_Score', 'A8_Score', 'A9_Score', 'A10_Score', 'age', 'gender',\n",
    "           'ethnicity', 'jundice', 'austim', 'contry_of_res', 'used_app_before',\n",
    "           'result', 'age_desc', 'relation', 'Class/ASD']\n",
    "\n",
    "@app.route('/predict', methods=['POST'])\n",
    "def predict():\n",
    "    data = request.get_json()\n",
    "    \n",
    "    # Create a DataFrame from the input data\n",
    "    input_df = pd.DataFrame(data, index=[0])\n",
    "\n",
    "    # Perform label encoding for categorical columns\n",
    "    encoder = LabelEncoder()\n",
    "    for col in input_df.columns:\n",
    "        if col in ['gender', 'ethnicity', 'jundice', 'austim', 'contry_of_res', 'used_app_before', 'relation', 'Class/ASD']:\n",
    "            input_df[col] = encoder.fit_transform(input_df[col])\n",
    "\n",
    "    # Drop the 'age_desc' column\n",
    "    input_df = input_df.drop('age_desc', axis=1)\n",
    "\n",
    "    # Assuming 'scaler' is the trained StandardScaler\n",
    "    # Standardize the features\n",
    "    scaler = StandardScaler()\n",
    "    X = scaler.fit_transform(input_df)\n",
    "\n",
    "    # Reshape the input data for RNN\n",
    "    X_rnn = X.reshape((X.shape[0], X.shape[1], 1))\n",
    "\n",
    "    # Make predictions using the model\n",
    "    predictions = model_rnn.predict(X_rnn)\n",
    "\n",
    "    return jsonify(predictions.tolist())\n",
    "\n",
    "if __name__ == '__main__':\n",
    "    app.run(port=8000)\n",
    "\n"
   ]
  },
  {
   "cell_type": "code",
   "execution_count": null,
   "metadata": {},
   "outputs": [],
   "source": []
  }
 ],
 "metadata": {
  "kernelspec": {
   "display_name": "Python 3 (ipykernel)",
   "language": "python",
   "name": "python3"
  },
  "language_info": {
   "codemirror_mode": {
    "name": "ipython",
    "version": 3
   },
   "file_extension": ".py",
   "mimetype": "text/x-python",
   "name": "python",
   "nbconvert_exporter": "python",
   "pygments_lexer": "ipython3",
   "version": "3.11.4"
  }
 },
 "nbformat": 4,
 "nbformat_minor": 2
}
