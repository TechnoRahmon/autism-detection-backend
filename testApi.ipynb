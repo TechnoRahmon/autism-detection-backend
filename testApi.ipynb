{
 "cells": [
  {
   "cell_type": "code",
   "execution_count": null,
   "metadata": {},
   "outputs": [],
   "source": [
    "import requests\n",
    "\n",
    "# URL of your Flask API endpoint\n",
    "url = 'http://127.0.0.1:8000/predict'  # Update with your actual API URL\n",
    "\n",
    "# Input data for prediction\n",
    "data = {\n",
    "    \"A1_Score\": 1,\n",
    "    \"A2_Score\": 1,\n",
    "    \"A3_Score\": 1,\n",
    "    \"A4_Score\": 1,\n",
    "    \"A5_Score\": 1,\n",
    "    \"A6_Score\": 0,\n",
    "    \"A7_Score\": 1,\n",
    "    \"A8_Score\": 1,\n",
    "    \"A9_Score\": 1,\n",
    "    \"A10_Score\": 1,\n",
    "    \"age\": 36,\n",
    "    \"gender\": \"m\",\n",
    "    \"ethnicity\": \"Others\",\n",
    "    \"jundice\": \"yes\",\n",
    "    \"austim\": \"no\",\n",
    "    \"contry_of_res\": \"United States\",\n",
    "    \"used_app_before\": \"no\",\n",
    "    \"result\": 9,\n",
    "    \"age_desc\": \"18 and more\",\n",
    "    \"relation\": \"Self\"\n",
    "}\n",
    "\n",
    "# Make a POST request to the API endpoint\n",
    "response = requests.post(url, json=data)\n",
    "\n",
    "# Print the response\n",
    "print(response.json())\n"
   ]
  }
 ],
 "metadata": {
  "language_info": {
   "name": "python"
  }
 },
 "nbformat": 4,
 "nbformat_minor": 2
}
